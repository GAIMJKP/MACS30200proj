{
 "cells": [
  {
   "cell_type": "markdown",
   "metadata": {},
   "source": [
    "### Laurence Warner"
   ]
  },
  {
   "cell_type": "markdown",
   "metadata": {},
   "source": [
    "## 1 "
   ]
  },
  {
   "cell_type": "markdown",
   "metadata": {},
   "source": [
    "### a "
   ]
  },
  {
   "cell_type": "code",
   "execution_count": 18,
   "metadata": {
    "collapsed": true
   },
   "outputs": [],
   "source": [
    "import scipy.stats as sts\n",
    "import numpy as np\n",
    "import matplotlib.pyplot as plt\n",
    "%matplotlib inline"
   ]
  },
  {
   "cell_type": "code",
   "execution_count": 5,
   "metadata": {
    "collapsed": true
   },
   "outputs": [],
   "source": [
    "p = 0.85\n",
    "mu = 11.4\n",
    "sig = 0.7"
   ]
  },
  {
   "cell_type": "code",
   "execution_count": 6,
   "metadata": {
    "collapsed": true
   },
   "outputs": [],
   "source": [
    "z_init = mu"
   ]
  },
  {
   "cell_type": "code",
   "execution_count": 7,
   "metadata": {
    "collapsed": true
   },
   "outputs": [],
   "source": [
    "T = 500"
   ]
  },
  {
   "cell_type": "code",
   "execution_count": 9,
   "metadata": {
    "collapsed": true
   },
   "outputs": [],
   "source": [
    "unif_vec = sts.uniform.rvs(loc=0, scale=1, size=T,\n",
    "                           random_state=25)"
   ]
  },
  {
   "cell_type": "code",
   "execution_count": 11,
   "metadata": {},
   "outputs": [],
   "source": [
    "eps_vec = sts.norm.ppf(unif_vec, loc=0, scale=sig)"
   ]
  },
  {
   "cell_type": "code",
   "execution_count": 13,
   "metadata": {},
   "outputs": [
    {
     "data": {
      "text/plain": [
       "(500,)"
      ]
     },
     "execution_count": 13,
     "metadata": {},
     "output_type": "execute_result"
    }
   ],
   "source": [
    "eps_vec.shape"
   ]
  },
  {
   "cell_type": "code",
   "execution_count": 19,
   "metadata": {},
   "outputs": [
    {
     "data": {
      "text/plain": [
       "(array([   2.,   11.,   40.,   63.,  112.,  126.,   82.,   40.,   18.,    6.]),\n",
       " array([-2.19044538, -1.76677889, -1.34311239, -0.9194459 , -0.49577941,\n",
       "        -0.07211291,  0.35155358,  0.77522008,  1.19888657,  1.62255306,\n",
       "         2.04621956]),\n",
       " <a list of 10 Patch objects>)"
      ]
     },
     "execution_count": 19,
     "metadata": {},
     "output_type": "execute_result"
    },
    {
     "data": {
      "image/png": "[encoded data removed]",
      "text/plain": [
       "<matplotlib.figure.Figure at 0x10e10a9b0>"
      ]
     },
     "metadata": {},
     "output_type": "display_data"
    }
   ],
   "source": [
    "plt.hist(eps_vec)"
   ]
  },
  {
   "cell_type": "code",
   "execution_count": 27,
   "metadata": {
    "collapsed": true
   },
   "outputs": [],
   "source": [
    "z = np.zeros(T+1)"
   ]
  },
  {
   "cell_type": "code",
   "execution_count": 28,
   "metadata": {},
   "outputs": [],
   "source": [
    "z[0] = mu"
   ]
  },
  {
   "cell_type": "code",
   "execution_count": 29,
   "metadata": {},
   "outputs": [
    {
     "data": {
      "text/plain": [
       "array([ 11.4,   0. ,   0. ,   0. ,   0. ,   0. ,   0. ,   0. ,   0. ,\n",
       "         0. ,   0. ,   0. ,   0. ,   0. ,   0. ,   0. ,   0. ,   0. ,\n",
       "         0. ,   0. ,   0. ,   0. ,   0. ,   0. ,   0. ,   0. ,   0. ,\n",
       "         0. ,   0. ,   0. ,   0. ,   0. ,   0. ,   0. ,   0. ,   0. ,\n",
       "         0. ,   0. ,   0. ,   0. ,   0. ,   0. ,   0. ,   0. ,   0. ,\n",
       "         0. ,   0. ,   0. ,   0. ,   0. ,   0. ,   0. ,   0. ,   0. ,\n",
       "         0. ,   0. ,   0. ,   0. ,   0. ,   0. ,   0. ,   0. ,   0. ,\n",
       "         0. ,   0. ,   0. ,   0. ,   0. ,   0. ,   0. ,   0. ,   0. ,\n",
       "         0. ,   0. ,   0. ,   0. ,   0. ,   0. ,   0. ,   0. ,   0. ,\n",
       "         0. ,   0. ,   0. ,   0. ,   0. ,   0. ,   0. ,   0. ,   0. ,\n",
       "         0. ,   0. ,   0. ,   0. ,   0. ,   0. ,   0. ,   0. ,   0. ,\n",
       "         0. ,   0. ,   0. ,   0. ,   0. ,   0. ,   0. ,   0. ,   0. ,\n",
       "         0. ,   0. ,   0. ,   0. ,   0. ,   0. ,   0. ,   0. ,   0. ,\n",
       "         0. ,   0. ,   0. ,   0. ,   0. ,   0. ,   0. ,   0. ,   0. ,\n",
       "         0. ,   0. ,   0. ,   0. ,   0. ,   0. ,   0. ,   0. ,   0. ,\n",
       "         0. ,   0. ,   0. ,   0. ,   0. ,   0. ,   0. ,   0. ,   0. ,\n",
       "         0. ,   0. ,   0. ,   0. ,   0. ,   0. ,   0. ,   0. ,   0. ,\n",
       "         0. ,   0. ,   0. ,   0. ,   0. ,   0. ,   0. ,   0. ,   0. ,\n",
       "         0. ,   0. ,   0. ,   0. ,   0. ,   0. ,   0. ,   0. ,   0. ,\n",
       "         0. ,   0. ,   0. ,   0. ,   0. ,   0. ,   0. ,   0. ,   0. ,\n",
       "         0. ,   0. ,   0. ,   0. ,   0. ,   0. ,   0. ,   0. ,   0. ,\n",
       "         0. ,   0. ,   0. ,   0. ,   0. ,   0. ,   0. ,   0. ,   0. ,\n",
       "         0. ,   0. ,   0. ,   0. ,   0. ,   0. ,   0. ,   0. ,   0. ,\n",
       "         0. ,   0. ,   0. ,   0. ,   0. ,   0. ,   0. ,   0. ,   0. ,\n",
       "         0. ,   0. ,   0. ,   0. ,   0. ,   0. ,   0. ,   0. ,   0. ,\n",
       "         0. ,   0. ,   0. ,   0. ,   0. ,   0. ,   0. ,   0. ,   0. ,\n",
       "         0. ,   0. ,   0. ,   0. ,   0. ,   0. ,   0. ,   0. ,   0. ,\n",
       "         0. ,   0. ,   0. ,   0. ,   0. ,   0. ,   0. ,   0. ,   0. ,\n",
       "         0. ,   0. ,   0. ,   0. ,   0. ,   0. ,   0. ,   0. ,   0. ,\n",
       "         0. ,   0. ,   0. ,   0. ,   0. ,   0. ,   0. ,   0. ,   0. ,\n",
       "         0. ,   0. ,   0. ,   0. ,   0. ,   0. ,   0. ,   0. ,   0. ,\n",
       "         0. ,   0. ,   0. ,   0. ,   0. ,   0. ,   0. ,   0. ,   0. ,\n",
       "         0. ,   0. ,   0. ,   0. ,   0. ,   0. ,   0. ,   0. ,   0. ,\n",
       "         0. ,   0. ,   0. ,   0. ,   0. ,   0. ,   0. ,   0. ,   0. ,\n",
       "         0. ,   0. ,   0. ,   0. ,   0. ,   0. ,   0. ,   0. ,   0. ,\n",
       "         0. ,   0. ,   0. ,   0. ,   0. ,   0. ,   0. ,   0. ,   0. ,\n",
       "         0. ,   0. ,   0. ,   0. ,   0. ,   0. ,   0. ,   0. ,   0. ,\n",
       "         0. ,   0. ,   0. ,   0. ,   0. ,   0. ,   0. ,   0. ,   0. ,\n",
       "         0. ,   0. ,   0. ,   0. ,   0. ,   0. ,   0. ,   0. ,   0. ,\n",
       "         0. ,   0. ,   0. ,   0. ,   0. ,   0. ,   0. ,   0. ,   0. ,\n",
       "         0. ,   0. ,   0. ,   0. ,   0. ,   0. ,   0. ,   0. ,   0. ,\n",
       "         0. ,   0. ,   0. ,   0. ,   0. ,   0. ,   0. ,   0. ,   0. ,\n",
       "         0. ,   0. ,   0. ,   0. ,   0. ,   0. ,   0. ,   0. ,   0. ,\n",
       "         0. ,   0. ,   0. ,   0. ,   0. ,   0. ,   0. ,   0. ,   0. ,\n",
       "         0. ,   0. ,   0. ,   0. ,   0. ,   0. ,   0. ,   0. ,   0. ,\n",
       "         0. ,   0. ,   0. ,   0. ,   0. ,   0. ,   0. ,   0. ,   0. ,\n",
       "         0. ,   0. ,   0. ,   0. ,   0. ,   0. ,   0. ,   0. ,   0. ,\n",
       "         0. ,   0. ,   0. ,   0. ,   0. ,   0. ,   0. ,   0. ,   0. ,\n",
       "         0. ,   0. ,   0. ,   0. ,   0. ,   0. ,   0. ,   0. ,   0. ,\n",
       "         0. ,   0. ,   0. ,   0. ,   0. ,   0. ,   0. ,   0. ,   0. ,\n",
       "         0. ,   0. ,   0. ,   0. ,   0. ,   0. ,   0. ,   0. ,   0. ,\n",
       "         0. ,   0. ,   0. ,   0. ,   0. ,   0. ,   0. ,   0. ,   0. ,\n",
       "         0. ,   0. ,   0. ,   0. ,   0. ,   0. ,   0. ,   0. ,   0. ,\n",
       "         0. ,   0. ,   0. ,   0. ,   0. ,   0. ,   0. ,   0. ,   0. ,\n",
       "         0. ,   0. ,   0. ,   0. ,   0. ,   0. ,   0. ,   0. ,   0. ,\n",
       "         0. ,   0. ,   0. ,   0. ,   0. ,   0. ])"
      ]
     },
     "execution_count": 29,
     "metadata": {},
     "output_type": "execute_result"
    }
   ],
   "source": [
    "z"
   ]
  },
  {
   "cell_type": "code",
   "execution_count": 25,
   "metadata": {
    "collapsed": true
   },
   "outputs": [],
   "source": [
    "def update_next(curr, p, mu, eps):\n",
    "    z_next = p*curr + (1-p)*mu + eps\n",
    "    return z_next"
   ]
  },
  {
   "cell_type": "code",
   "execution_count": 32,
   "metadata": {},
   "outputs": [],
   "source": [
    "one = update_next(z[0], p, mu, eps_vec[0])"
   ]
  },
  {
   "cell_type": "code",
   "execution_count": 33,
   "metadata": {},
   "outputs": [
    {
     "data": {
      "text/plain": [
       "12.188884692640293"
      ]
     },
     "execution_count": 33,
     "metadata": {},
     "output_type": "execute_result"
    }
   ],
   "source": [
    "one"
   ]
  },
  {
   "cell_type": "markdown",
   "metadata": {},
   "source": [
    "Loop iteratively"
   ]
  },
  {
   "cell_type": "code",
   "execution_count": 34,
   "metadata": {
    "collapsed": true
   },
   "outputs": [],
   "source": [
    "for i in range(0, T):\n",
    "    z[i+1] = update_next(z[i], p, mu, eps_vec[i])"
   ]
  },
  {
   "cell_type": "code",
   "execution_count": 35,
   "metadata": {},
   "outputs": [
    {
     "data": {
      "text/plain": [
       "array([ 11.4       ,  12.18888469,  12.2159573 ,  11.68315782,\n",
       "        11.01553877,  10.91590679,  10.1567745 ,  10.68040553,\n",
       "        10.67842452,  10.88565201,  10.72508687,  10.65326395,\n",
       "         9.91791397,  10.04701032,  10.40104919,   9.86045939,\n",
       "        10.12776085,  10.00300618,  10.57799829,  10.46230611,\n",
       "        11.28872644,  11.27266911,  11.3207326 ,  11.12438321,\n",
       "        13.13436557,  12.89920999,  12.77832705,  11.29822341,\n",
       "        11.72133346,  11.53360466,  11.40244288,  10.99761888,\n",
       "        11.95615748,  12.17992382,  11.98569528,  11.51007151,\n",
       "        11.53889543,  11.62239461,  12.05084072,  12.61656985,\n",
       "        13.08475995,  11.83484479,  12.02965801,  11.58664022,\n",
       "        11.60122697,  12.78131856,  13.40791974,  12.73042248,\n",
       "        12.55257799,  11.43553918,  11.68434424,  10.86117739,\n",
       "        11.45112658,  10.44432582,  10.28175407,  10.77658964,\n",
       "        10.88626827,  11.24280425,  11.44757108,  11.84646005,\n",
       "        11.62959357,  11.41153827,  12.06439749,  12.35733626,\n",
       "        11.30835897,  12.0244509 ,  11.82656181,  11.53766332,\n",
       "        12.47163416,  12.39492366,  11.77780097,  10.37762915,\n",
       "         9.95735122,  10.33462467,   9.80873854,  10.7347655 ,\n",
       "        11.36381552,  10.69867117,  11.31415941,  11.0294347 ,\n",
       "        11.03654914,  10.53878681,  11.61560289,  12.0758917 ,\n",
       "        12.29518118,  10.74262051,  11.13162278,  10.25214795,\n",
       "        11.09546443,  10.29271863,  10.57662661,  10.04490405,\n",
       "        10.81413798,   9.62155833,  10.4674462 ,  10.95330841,\n",
       "        11.00600323,  10.12030251,  11.38642769,  10.42504376,\n",
       "        10.51753133,  11.25319073,  10.31756925,   9.9953351 ,\n",
       "        11.07514603,  11.08632628,  10.51988282,  10.18644196,\n",
       "        10.86816889,  12.16173788,  12.54712125,  12.04767785,\n",
       "        12.5188706 ,  12.33265111,  11.81830559,  11.93645846,\n",
       "        11.32005489,  11.12934767,   9.43502802,   9.47543428,\n",
       "         9.16672796,   9.34175614,   8.79028882,   8.22435605,\n",
       "         9.16756225,   8.86965998,   7.73175903,   9.23695075,\n",
       "        10.5737536 ,  10.84416004,  10.58562891,  12.75400413,\n",
       "        11.82544232,  13.54069236,  12.41422148,  11.99435596,\n",
       "        11.9597539 ,  11.55543909,  12.13746194,  13.25492474,\n",
       "        13.04606285,  12.79796952,  13.18022387,  13.49510287,\n",
       "        12.3578786 ,  11.73317348,  11.9095391 ,  11.61421079,\n",
       "        10.51361204,  10.42019479,   9.55510158,   8.64091629,\n",
       "         8.67355387,   9.5647188 ,  11.01404462,  11.22896675,\n",
       "        12.83327637,  12.02432162,  10.72861394,  10.62228529,\n",
       "        11.28170614,  11.80090672,  12.51047528,  12.40934179,\n",
       "        12.30478345,  12.79911091,  11.79785551,  12.14674766,\n",
       "        10.98486591,   9.53431341,   9.89541994,   9.19192995,\n",
       "         8.8599244 ,   8.93994754,   8.47487147,   9.02391226,\n",
       "         9.22272055,   9.15341065,   9.30969701,   9.49480956,\n",
       "        10.62382448,  10.62933622,  10.95337418,   9.90365107,\n",
       "        11.15362514,  11.67884111,  13.01969748,  12.30824776,\n",
       "        13.46999609,  12.40317482,  12.64378134,  11.4198481 ,\n",
       "        11.60335945,  10.48171343,  10.37392986,  10.07419934,\n",
       "         8.91434457,   9.72163663,   9.88800712,  10.88114096,\n",
       "        11.01152492,  11.79220186,  11.40487724,  11.07596992,\n",
       "        10.67492806,  10.65128511,  11.63104408,  11.56076376,\n",
       "        11.26422292,  11.61619952,  10.89341095,  12.11296846,\n",
       "        11.95507926,  12.51187072,  11.31647562,  10.45692411,\n",
       "        10.61189357,  10.60956712,  10.53895207,  10.60460205,\n",
       "        10.70309434,  10.47507334,  10.67886211,  11.28212507,\n",
       "        12.07563922,  12.56025091,  11.05009069,  11.14768932,\n",
       "        11.49463591,  11.25778953,  10.27245428,  10.74771815,\n",
       "        11.00543681,  11.50343508,  11.24995294,   9.57081215,\n",
       "         9.4563895 ,   9.57486183,  10.07894227,  10.19002678,\n",
       "        10.2900131 ,   9.02032356,  10.62370731,  11.08008454,\n",
       "        11.06079415,  10.6541295 ,  10.62709341,  10.6002546 ,\n",
       "        10.81066715,  11.18406609,  10.80501889,  10.414868  ,\n",
       "        10.82885722,   9.62963184,  10.71799852,  10.64560225,\n",
       "        11.40545423,  11.85270271,  12.25426951,  11.04254063,\n",
       "        12.36781665,  12.48792029,  12.64992464,  12.2029921 ,\n",
       "        11.40017727,  10.18130836,  10.44651518,  12.45051772,\n",
       "        12.31550616,  12.4415173 ,  12.41983696,  13.36683744,\n",
       "        13.21798178,  12.91747208,  12.52701695,  11.58966104,\n",
       "        10.86089832,  11.6092098 ,  10.93018197,  10.51348374,\n",
       "        10.07174164,  10.85977481,  10.87839761,   9.53908492,\n",
       "         9.39775877,   8.90175775,   9.44942981,   9.60034598,\n",
       "         9.43034473,   9.02162227,   9.23968011,  10.35662338,\n",
       "        10.42253163,  11.0782131 ,  11.31382473,  11.82005343,\n",
       "        11.67402249,  12.03352253,  12.42899278,  11.63725277,\n",
       "        11.24612717,  11.27700216,   9.87231628,  10.01951603,\n",
       "        10.13408787,  10.61310926,  10.03639167,  10.84885201,\n",
       "        10.88842792,  10.60486001,  10.36628356,  10.63028128,\n",
       "        11.91519659,  11.91324287,  12.27905863,  12.6032502 ,\n",
       "        13.80841046,  13.21343441,  14.00398834,  13.76590141,\n",
       "        14.42649164,  14.94162726,  13.92222373,  12.68827106,\n",
       "        11.9759895 ,  12.38685466,  12.34008228,  12.72784132,\n",
       "        12.74698531,  11.42516203,  10.18277812,  11.29309734,\n",
       "        12.12355583,  12.45340695,  13.49875612,  12.20768024,\n",
       "        12.1624885 ,  11.49634867,  11.82367474,  11.81731643,\n",
       "        10.98272871,  10.99043304,  10.88404834,  11.24756409,\n",
       "        11.18788563,  11.82585501,  13.46827634,  12.23344845,\n",
       "        12.76845848,  12.32325382,  13.18925287,  13.12782252,\n",
       "        12.70613081,  12.15386293,  11.96777145,  11.96901777,\n",
       "        12.17361311,  12.76928226,  12.66437052,  13.35481632,\n",
       "        13.14280351,  13.5198974 ,  13.26902054,  13.00760198,\n",
       "        13.37113088,  12.87174139,  11.96507781,  11.77994426,\n",
       "        11.85713746,  10.86643295,  11.26198502,  10.55607288,\n",
       "         9.96909605,  10.25536231,  12.00341363,  11.80954329,\n",
       "        12.36471701,  11.77570438,  11.27155714,  12.40880845,\n",
       "        11.58525954,  11.27412942,  11.2960673 ,  12.1031562 ,\n",
       "        12.22174265,  12.18210146,  11.67878524,  11.84525375,\n",
       "        12.24190355,  13.15469886,  12.36084915,  11.23823121,\n",
       "        10.63267983,   9.98678435,  10.16313179,  10.36855128,\n",
       "        11.67887445,  12.21586857,  12.68794297,  11.98888021,\n",
       "        10.85296197,   9.63354073,  10.03525341,   9.54399133,\n",
       "        11.12741709,  10.38006963,  10.55235329,  11.59470762,\n",
       "        12.47458009,  12.81985048,  12.93001416,  11.82789888,\n",
       "        11.57663789,  10.6398643 ,  10.95969764,  11.92965435,\n",
       "        12.03515873,  11.77651118,  11.68058372,  11.76157535,\n",
       "        12.34949531,  11.64888301,  11.34914261,  11.94260682,\n",
       "        11.74831468,  11.78431799,  11.02930589,  10.00469577,\n",
       "         9.7355086 ,   9.97106116,  11.25107598,  11.39463478,\n",
       "        11.33990234,  12.67420406,  13.87282176,  13.55110962,\n",
       "        14.00118249,  14.39906624,  14.52992057,  14.66292534,\n",
       "        13.90351119,  13.48360435,  13.73584278,  14.73569352,\n",
       "        14.20869063,  13.8173087 ,  12.1959098 ,  11.56611927,\n",
       "        13.14023288,  12.70553584,  12.55985803,  13.13288048,\n",
       "        12.31947224,  11.28216475,  12.06688167,  11.83119502,\n",
       "        11.37903108,  11.38639377,  11.40968502,  11.17374277,\n",
       "        12.02612261,  11.58881747,  12.24192214,  12.1694392 ,\n",
       "        11.94435488,  10.80245684,  11.3829564 ,  10.78204211,\n",
       "        10.34610853,  10.68974329,  11.65702552,  11.91026801,\n",
       "        11.95938061,  11.8081065 ,  12.60349592,  12.09290837,\n",
       "        11.10903392,  12.48778114,  12.2066473 ,  11.31293737,\n",
       "        12.01191328,  10.09171867,  10.27300003,  11.12980481,\n",
       "        11.6938928 ,   9.4593635 ,   9.0581187 ,  10.68865472,\n",
       "        11.70537139,  13.57891854,  12.99246703,  13.28907215,\n",
       "        13.38089495,  11.81964372,  10.42821254,  11.67976137,\n",
       "        10.11173552,   9.13285424,   8.72975623,   7.93739697,   9.14995291])"
      ]
     },
     "execution_count": 35,
     "metadata": {},
     "output_type": "execute_result"
    }
   ],
   "source": [
    "z"
   ]
  },
  {
   "cell_type": "code",
   "execution_count": 37,
   "metadata": {
    "collapsed": true
   },
   "outputs": [],
   "source": [
    "z_100 = z[:100]"
   ]
  },
  {
   "cell_type": "code",
   "execution_count": 42,
   "metadata": {},
   "outputs": [
    {
     "data": {
      "text/plain": [
       "Text(0,0.5,'$x_t$')"
      ]
     },
     "execution_count": 42,
     "metadata": {},
     "output_type": "execute_result"
    },
    {
     "data": {
      "image/png": "[encoded data removed]",
      "text/plain": [
       "<matplotlib.figure.Figure at 0x10f581e10>"
      ]
     },
     "metadata": {},
     "output_type": "display_data"
    }
   ],
   "source": [
    "plt.plot(np.arange(0,100), z_100, '-')\n",
    "plt.grid(b=True, which='major', color='0.65', linestyle=':')\n",
    "plt.title(r'Time series', fontsize=20)\n",
    "plt.xlabel(r'Period $t$')\n",
    "plt.ylabel(r'$x_t$')"
   ]
  },
  {
   "cell_type": "code",
   "execution_count": null,
   "metadata": {
    "collapsed": true
   },
   "outputs": [],
   "source": []
  }
 ],
 "metadata": {
  "kernelspec": {
   "display_name": "Python 3",
   "language": "python",
   "name": "python3"
  },
  "language_info": {
   "codemirror_mode": {
    "name": "ipython",
    "version": 3
   },
   "file_extension": ".py",
   "mimetype": "text/x-python",
   "name": "python",
   "nbconvert_exporter": "python",
   "pygments_lexer": "ipython3",
   "version": "3.6.3"
  }
 },
 "nbformat": 4,
 "nbformat_minor": 2
}
