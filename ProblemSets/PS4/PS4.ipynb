{
 "cells": [
  {
   "cell_type": "markdown",
   "metadata": {},
   "source": [
    "### Laurence Warner"
   ]
  },
  {
   "cell_type": "markdown",
   "metadata": {},
   "source": [
    "## 1 "
   ]
  },
  {
   "cell_type": "markdown",
   "metadata": {},
   "source": [
    "### a "
   ]
  },
  {
   "cell_type": "code",
   "execution_count": 2,
   "metadata": {
    "collapsed": true
   },
   "outputs": [],
   "source": [
    "import scipy.stats as sts\n",
    "import numpy as np\n",
    "import matplotlib.pyplot as plt\n",
    "%matplotlib inline"
   ]
  },
  {
   "cell_type": "code",
   "execution_count": 3,
   "metadata": {
    "collapsed": true
   },
   "outputs": [],
   "source": [
    "p = 0.85\n",
    "mu = 11.4\n",
    "sig = 0.7"
   ]
  },
  {
   "cell_type": "code",
   "execution_count": 4,
   "metadata": {
    "collapsed": true
   },
   "outputs": [],
   "source": [
    "z_init = mu"
   ]
  },
  {
   "cell_type": "code",
   "execution_count": 5,
   "metadata": {
    "collapsed": true
   },
   "outputs": [],
   "source": [
    "T = 500"
   ]
  },
  {
   "cell_type": "code",
   "execution_count": 6,
   "metadata": {
    "collapsed": true
   },
   "outputs": [],
   "source": [
    "unif_vec = sts.uniform.rvs(loc=0, scale=1, size=T,\n",
    "                           random_state=25)"
   ]
  },
  {
   "cell_type": "code",
   "execution_count": 12,
   "metadata": {},
   "outputs": [
    {
     "data": {
      "image/png": "[encoded data removed]",
      "text/plain": [
       "<matplotlib.figure.Figure at 0x111cf62e8>"
      ]
     },
     "metadata": {},
     "output_type": "display_data"
    }
   ],
   "source": [
    "n, bins, patches = plt.hist(unif_vec)"
   ]
  },
  {
   "cell_type": "code",
   "execution_count": 13,
   "metadata": {
    "collapsed": true
   },
   "outputs": [],
   "source": [
    "eps_vec = sts.norm.ppf(unif_vec, loc=0, scale=sig)"
   ]
  },
  {
   "cell_type": "code",
   "execution_count": 14,
   "metadata": {},
   "outputs": [
    {
     "data": {
      "text/plain": [
       "(500,)"
      ]
     },
     "execution_count": 14,
     "metadata": {},
     "output_type": "execute_result"
    }
   ],
   "source": [
    "eps_vec.shape"
   ]
  },
  {
   "cell_type": "code",
   "execution_count": 26,
   "metadata": {},
   "outputs": [
    {
     "data": {
      "image/png": "[encoded data removed]",
      "text/plain": [
       "<matplotlib.figure.Figure at 0x111d4b780>"
      ]
     },
     "metadata": {},
     "output_type": "display_data"
    }
   ],
   "source": [
    "n, bins, patches = plt.hist(eps_vec)"
   ]
  },
  {
   "cell_type": "code",
   "execution_count": 95,
   "metadata": {
    "collapsed": true
   },
   "outputs": [],
   "source": [
    "z_t = np.zeros(T+1)"
   ]
  },
  {
   "cell_type": "markdown",
   "metadata": {},
   "source": [
    "Set T = 0"
   ]
  },
  {
   "cell_type": "code",
   "execution_count": 96,
   "metadata": {
    "collapsed": true
   },
   "outputs": [],
   "source": [
    "z_t[0] = mu"
   ]
  },
  {
   "cell_type": "code",
   "execution_count": 97,
   "metadata": {},
   "outputs": [
    {
     "data": {
      "text/plain": [
       "array([ 11.4,   0. ,   0. ,   0. ,   0. ,   0. ,   0. ,   0. ,   0. ,\n",
       "         0. ,   0. ,   0. ,   0. ,   0. ,   0. ,   0. ,   0. ,   0. ,\n",
       "         0. ,   0. ,   0. ,   0. ,   0. ,   0. ,   0. ,   0. ,   0. ,\n",
       "         0. ,   0. ,   0. ,   0. ,   0. ,   0. ,   0. ,   0. ,   0. ,\n",
       "         0. ,   0. ,   0. ,   0. ,   0. ,   0. ,   0. ,   0. ,   0. ,\n",
       "         0. ,   0. ,   0. ,   0. ,   0. ,   0. ,   0. ,   0. ,   0. ,\n",
       "         0. ,   0. ,   0. ,   0. ,   0. ,   0. ,   0. ,   0. ,   0. ,\n",
       "         0. ,   0. ,   0. ,   0. ,   0. ,   0. ,   0. ,   0. ,   0. ,\n",
       "         0. ,   0. ,   0. ,   0. ,   0. ,   0. ,   0. ,   0. ,   0. ,\n",
       "         0. ,   0. ,   0. ,   0. ,   0. ,   0. ,   0. ,   0. ,   0. ,\n",
       "         0. ,   0. ,   0. ,   0. ,   0. ,   0. ,   0. ,   0. ,   0. ,\n",
       "         0. ,   0. ,   0. ,   0. ,   0. ,   0. ,   0. ,   0. ,   0. ,\n",
       "         0. ,   0. ,   0. ,   0. ,   0. ,   0. ,   0. ,   0. ,   0. ,\n",
       "         0. ,   0. ,   0. ,   0. ,   0. ,   0. ,   0. ,   0. ,   0. ,\n",
       "         0. ,   0. ,   0. ,   0. ,   0. ,   0. ,   0. ,   0. ,   0. ,\n",
       "         0. ,   0. ,   0. ,   0. ,   0. ,   0. ,   0. ,   0. ,   0. ,\n",
       "         0. ,   0. ,   0. ,   0. ,   0. ,   0. ,   0. ,   0. ,   0. ,\n",
       "         0. ,   0. ,   0. ,   0. ,   0. ,   0. ,   0. ,   0. ,   0. ,\n",
       "         0. ,   0. ,   0. ,   0. ,   0. ,   0. ,   0. ,   0. ,   0. ,\n",
       "         0. ,   0. ,   0. ,   0. ,   0. ,   0. ,   0. ,   0. ,   0. ,\n",
       "         0. ,   0. ,   0. ,   0. ,   0. ,   0. ,   0. ,   0. ,   0. ,\n",
       "         0. ,   0. ,   0. ,   0. ,   0. ,   0. ,   0. ,   0. ,   0. ,\n",
       "         0. ,   0. ,   0. ,   0. ,   0. ,   0. ,   0. ,   0. ,   0. ,\n",
       "         0. ,   0. ,   0. ,   0. ,   0. ,   0. ,   0. ,   0. ,   0. ,\n",
       "         0. ,   0. ,   0. ,   0. ,   0. ,   0. ,   0. ,   0. ,   0. ,\n",
       "         0. ,   0. ,   0. ,   0. ,   0. ,   0. ,   0. ,   0. ,   0. ,\n",
       "         0. ,   0. ,   0. ,   0. ,   0. ,   0. ,   0. ,   0. ,   0. ,\n",
       "         0. ,   0. ,   0. ,   0. ,   0. ,   0. ,   0. ,   0. ,   0. ,\n",
       "         0. ,   0. ,   0. ,   0. ,   0. ,   0. ,   0. ,   0. ,   0. ,\n",
       "         0. ,   0. ,   0. ,   0. ,   0. ,   0. ,   0. ,   0. ,   0. ,\n",
       "         0. ,   0. ,   0. ,   0. ,   0. ,   0. ,   0. ,   0. ,   0. ,\n",
       "         0. ,   0. ,   0. ,   0. ,   0. ,   0. ,   0. ,   0. ,   0. ,\n",
       "         0. ,   0. ,   0. ,   0. ,   0. ,   0. ,   0. ,   0. ,   0. ,\n",
       "         0. ,   0. ,   0. ,   0. ,   0. ,   0. ,   0. ,   0. ,   0. ,\n",
       "         0. ,   0. ,   0. ,   0. ,   0. ,   0. ,   0. ,   0. ,   0. ,\n",
       "         0. ,   0. ,   0. ,   0. ,   0. ,   0. ,   0. ,   0. ,   0. ,\n",
       "         0. ,   0. ,   0. ,   0. ,   0. ,   0. ,   0. ,   0. ,   0. ,\n",
       "         0. ,   0. ,   0. ,   0. ,   0. ,   0. ,   0. ,   0. ,   0. ,\n",
       "         0. ,   0. ,   0. ,   0. ,   0. ,   0. ,   0. ,   0. ,   0. ,\n",
       "         0. ,   0. ,   0. ,   0. ,   0. ,   0. ,   0. ,   0. ,   0. ,\n",
       "         0. ,   0. ,   0. ,   0. ,   0. ,   0. ,   0. ,   0. ,   0. ,\n",
       "         0. ,   0. ,   0. ,   0. ,   0. ,   0. ,   0. ,   0. ,   0. ,\n",
       "         0. ,   0. ,   0. ,   0. ,   0. ,   0. ,   0. ,   0. ,   0. ,\n",
       "         0. ,   0. ,   0. ,   0. ,   0. ,   0. ,   0. ,   0. ,   0. ,\n",
       "         0. ,   0. ,   0. ,   0. ,   0. ,   0. ,   0. ,   0. ,   0. ,\n",
       "         0. ,   0. ,   0. ,   0. ,   0. ,   0. ,   0. ,   0. ,   0. ,\n",
       "         0. ,   0. ,   0. ,   0. ,   0. ,   0. ,   0. ,   0. ,   0. ,\n",
       "         0. ,   0. ,   0. ,   0. ,   0. ,   0. ,   0. ,   0. ,   0. ,\n",
       "         0. ,   0. ,   0. ,   0. ,   0. ,   0. ,   0. ,   0. ,   0. ,\n",
       "         0. ,   0. ,   0. ,   0. ,   0. ,   0. ,   0. ,   0. ,   0. ,\n",
       "         0. ,   0. ,   0. ,   0. ,   0. ,   0. ,   0. ,   0. ,   0. ,\n",
       "         0. ,   0. ,   0. ,   0. ,   0. ,   0. ,   0. ,   0. ,   0. ,\n",
       "         0. ,   0. ,   0. ,   0. ,   0. ,   0. ,   0. ,   0. ,   0. ,\n",
       "         0. ,   0. ,   0. ,   0. ,   0. ,   0. ,   0. ,   0. ,   0. ,\n",
       "         0. ,   0. ,   0. ,   0. ,   0. ,   0. ,   0. ,   0. ,   0. ,\n",
       "         0. ,   0. ,   0. ,   0. ,   0. ,   0. ])"
      ]
     },
     "execution_count": 97,
     "metadata": {},
     "output_type": "execute_result"
    }
   ],
   "source": [
    "z_t"
   ]
  },
  {
   "cell_type": "code",
   "execution_count": 19,
   "metadata": {
    "collapsed": true
   },
   "outputs": [],
   "source": [
    "def update_next(curr, p, mu, eps):\n",
    "    z_next = p*curr + (1-p)*mu + eps\n",
    "    return z_next"
   ]
  },
  {
   "cell_type": "code",
   "execution_count": 20,
   "metadata": {
    "collapsed": true
   },
   "outputs": [],
   "source": [
    "one = update_next(z[0], p, mu, eps_vec[0])"
   ]
  },
  {
   "cell_type": "code",
   "execution_count": 21,
   "metadata": {},
   "outputs": [
    {
     "data": {
      "text/plain": [
       "12.188884692640293"
      ]
     },
     "execution_count": 21,
     "metadata": {},
     "output_type": "execute_result"
    }
   ],
   "source": [
    "one"
   ]
  },
  {
   "cell_type": "markdown",
   "metadata": {},
   "source": [
    "Loop iteratively"
   ]
  },
  {
   "cell_type": "code",
   "execution_count": 99,
   "metadata": {},
   "outputs": [],
   "source": [
    "for i in range(0, T):\n",
    "    z_t[i+1] = update_next(z_t[i], p, mu, eps_vec[i])"
   ]
  },
  {
   "cell_type": "code",
   "execution_count": 100,
   "metadata": {},
   "outputs": [
    {
     "data": {
      "text/plain": [
       "array([ 11.4       ,  12.18888469,  12.2159573 ,  11.68315782,\n",
       "        11.01553877,  10.91590679,  10.1567745 ,  10.68040553,\n",
       "        10.67842452,  10.88565201,  10.72508687,  10.65326395,\n",
       "         9.91791397,  10.04701032,  10.40104919,   9.86045939,\n",
       "        10.12776085,  10.00300618,  10.57799829,  10.46230611,\n",
       "        11.28872644,  11.27266911,  11.3207326 ,  11.12438321,\n",
       "        13.13436557,  12.89920999,  12.77832705,  11.29822341,\n",
       "        11.72133346,  11.53360466,  11.40244288,  10.99761888,\n",
       "        11.95615748,  12.17992382,  11.98569528,  11.51007151,\n",
       "        11.53889543,  11.62239461,  12.05084072,  12.61656985,\n",
       "        13.08475995,  11.83484479,  12.02965801,  11.58664022,\n",
       "        11.60122697,  12.78131856,  13.40791974,  12.73042248,\n",
       "        12.55257799,  11.43553918,  11.68434424,  10.86117739,\n",
       "        11.45112658,  10.44432582,  10.28175407,  10.77658964,\n",
       "        10.88626827,  11.24280425,  11.44757108,  11.84646005,\n",
       "        11.62959357,  11.41153827,  12.06439749,  12.35733626,\n",
       "        11.30835897,  12.0244509 ,  11.82656181,  11.53766332,\n",
       "        12.47163416,  12.39492366,  11.77780097,  10.37762915,\n",
       "         9.95735122,  10.33462467,   9.80873854,  10.7347655 ,\n",
       "        11.36381552,  10.69867117,  11.31415941,  11.0294347 ,\n",
       "        11.03654914,  10.53878681,  11.61560289,  12.0758917 ,\n",
       "        12.29518118,  10.74262051,  11.13162278,  10.25214795,\n",
       "        11.09546443,  10.29271863,  10.57662661,  10.04490405,\n",
       "        10.81413798,   9.62155833,  10.4674462 ,  10.95330841,\n",
       "        11.00600323,  10.12030251,  11.38642769,  10.42504376,\n",
       "        10.51753133,  11.25319073,  10.31756925,   9.9953351 ,\n",
       "        11.07514603,  11.08632628,  10.51988282,  10.18644196,\n",
       "        10.86816889,  12.16173788,  12.54712125,  12.04767785,\n",
       "        12.5188706 ,  12.33265111,  11.81830559,  11.93645846,\n",
       "        11.32005489,  11.12934767,   9.43502802,   9.47543428,\n",
       "         9.16672796,   9.34175614,   8.79028882,   8.22435605,\n",
       "         9.16756225,   8.86965998,   7.73175903,   9.23695075,\n",
       "        10.5737536 ,  10.84416004,  10.58562891,  12.75400413,\n",
       "        11.82544232,  13.54069236,  12.41422148,  11.99435596,\n",
       "        11.9597539 ,  11.55543909,  12.13746194,  13.25492474,\n",
       "        13.04606285,  12.79796952,  13.18022387,  13.49510287,\n",
       "        12.3578786 ,  11.73317348,  11.9095391 ,  11.61421079,\n",
       "        10.51361204,  10.42019479,   9.55510158,   8.64091629,\n",
       "         8.67355387,   9.5647188 ,  11.01404462,  11.22896675,\n",
       "        12.83327637,  12.02432162,  10.72861394,  10.62228529,\n",
       "        11.28170614,  11.80090672,  12.51047528,  12.40934179,\n",
       "        12.30478345,  12.79911091,  11.79785551,  12.14674766,\n",
       "        10.98486591,   9.53431341,   9.89541994,   9.19192995,\n",
       "         8.8599244 ,   8.93994754,   8.47487147,   9.02391226,\n",
       "         9.22272055,   9.15341065,   9.30969701,   9.49480956,\n",
       "        10.62382448,  10.62933622,  10.95337418,   9.90365107,\n",
       "        11.15362514,  11.67884111,  13.01969748,  12.30824776,\n",
       "        13.46999609,  12.40317482,  12.64378134,  11.4198481 ,\n",
       "        11.60335945,  10.48171343,  10.37392986,  10.07419934,\n",
       "         8.91434457,   9.72163663,   9.88800712,  10.88114096,\n",
       "        11.01152492,  11.79220186,  11.40487724,  11.07596992,\n",
       "        10.67492806,  10.65128511,  11.63104408,  11.56076376,\n",
       "        11.26422292,  11.61619952,  10.89341095,  12.11296846,\n",
       "        11.95507926,  12.51187072,  11.31647562,  10.45692411,\n",
       "        10.61189357,  10.60956712,  10.53895207,  10.60460205,\n",
       "        10.70309434,  10.47507334,  10.67886211,  11.28212507,\n",
       "        12.07563922,  12.56025091,  11.05009069,  11.14768932,\n",
       "        11.49463591,  11.25778953,  10.27245428,  10.74771815,\n",
       "        11.00543681,  11.50343508,  11.24995294,   9.57081215,\n",
       "         9.4563895 ,   9.57486183,  10.07894227,  10.19002678,\n",
       "        10.2900131 ,   9.02032356,  10.62370731,  11.08008454,\n",
       "        11.06079415,  10.6541295 ,  10.62709341,  10.6002546 ,\n",
       "        10.81066715,  11.18406609,  10.80501889,  10.414868  ,\n",
       "        10.82885722,   9.62963184,  10.71799852,  10.64560225,\n",
       "        11.40545423,  11.85270271,  12.25426951,  11.04254063,\n",
       "        12.36781665,  12.48792029,  12.64992464,  12.2029921 ,\n",
       "        11.40017727,  10.18130836,  10.44651518,  12.45051772,\n",
       "        12.31550616,  12.4415173 ,  12.41983696,  13.36683744,\n",
       "        13.21798178,  12.91747208,  12.52701695,  11.58966104,\n",
       "        10.86089832,  11.6092098 ,  10.93018197,  10.51348374,\n",
       "        10.07174164,  10.85977481,  10.87839761,   9.53908492,\n",
       "         9.39775877,   8.90175775,   9.44942981,   9.60034598,\n",
       "         9.43034473,   9.02162227,   9.23968011,  10.35662338,\n",
       "        10.42253163,  11.0782131 ,  11.31382473,  11.82005343,\n",
       "        11.67402249,  12.03352253,  12.42899278,  11.63725277,\n",
       "        11.24612717,  11.27700216,   9.87231628,  10.01951603,\n",
       "        10.13408787,  10.61310926,  10.03639167,  10.84885201,\n",
       "        10.88842792,  10.60486001,  10.36628356,  10.63028128,\n",
       "        11.91519659,  11.91324287,  12.27905863,  12.6032502 ,\n",
       "        13.80841046,  13.21343441,  14.00398834,  13.76590141,\n",
       "        14.42649164,  14.94162726,  13.92222373,  12.68827106,\n",
       "        11.9759895 ,  12.38685466,  12.34008228,  12.72784132,\n",
       "        12.74698531,  11.42516203,  10.18277812,  11.29309734,\n",
       "        12.12355583,  12.45340695,  13.49875612,  12.20768024,\n",
       "        12.1624885 ,  11.49634867,  11.82367474,  11.81731643,\n",
       "        10.98272871,  10.99043304,  10.88404834,  11.24756409,\n",
       "        11.18788563,  11.82585501,  13.46827634,  12.23344845,\n",
       "        12.76845848,  12.32325382,  13.18925287,  13.12782252,\n",
       "        12.70613081,  12.15386293,  11.96777145,  11.96901777,\n",
       "        12.17361311,  12.76928226,  12.66437052,  13.35481632,\n",
       "        13.14280351,  13.5198974 ,  13.26902054,  13.00760198,\n",
       "        13.37113088,  12.87174139,  11.96507781,  11.77994426,\n",
       "        11.85713746,  10.86643295,  11.26198502,  10.55607288,\n",
       "         9.96909605,  10.25536231,  12.00341363,  11.80954329,\n",
       "        12.36471701,  11.77570438,  11.27155714,  12.40880845,\n",
       "        11.58525954,  11.27412942,  11.2960673 ,  12.1031562 ,\n",
       "        12.22174265,  12.18210146,  11.67878524,  11.84525375,\n",
       "        12.24190355,  13.15469886,  12.36084915,  11.23823121,\n",
       "        10.63267983,   9.98678435,  10.16313179,  10.36855128,\n",
       "        11.67887445,  12.21586857,  12.68794297,  11.98888021,\n",
       "        10.85296197,   9.63354073,  10.03525341,   9.54399133,\n",
       "        11.12741709,  10.38006963,  10.55235329,  11.59470762,\n",
       "        12.47458009,  12.81985048,  12.93001416,  11.82789888,\n",
       "        11.57663789,  10.6398643 ,  10.95969764,  11.92965435,\n",
       "        12.03515873,  11.77651118,  11.68058372,  11.76157535,\n",
       "        12.34949531,  11.64888301,  11.34914261,  11.94260682,\n",
       "        11.74831468,  11.78431799,  11.02930589,  10.00469577,\n",
       "         9.7355086 ,   9.97106116,  11.25107598,  11.39463478,\n",
       "        11.33990234,  12.67420406,  13.87282176,  13.55110962,\n",
       "        14.00118249,  14.39906624,  14.52992057,  14.66292534,\n",
       "        13.90351119,  13.48360435,  13.73584278,  14.73569352,\n",
       "        14.20869063,  13.8173087 ,  12.1959098 ,  11.56611927,\n",
       "        13.14023288,  12.70553584,  12.55985803,  13.13288048,\n",
       "        12.31947224,  11.28216475,  12.06688167,  11.83119502,\n",
       "        11.37903108,  11.38639377,  11.40968502,  11.17374277,\n",
       "        12.02612261,  11.58881747,  12.24192214,  12.1694392 ,\n",
       "        11.94435488,  10.80245684,  11.3829564 ,  10.78204211,\n",
       "        10.34610853,  10.68974329,  11.65702552,  11.91026801,\n",
       "        11.95938061,  11.8081065 ,  12.60349592,  12.09290837,\n",
       "        11.10903392,  12.48778114,  12.2066473 ,  11.31293737,\n",
       "        12.01191328,  10.09171867,  10.27300003,  11.12980481,\n",
       "        11.6938928 ,   9.4593635 ,   9.0581187 ,  10.68865472,\n",
       "        11.70537139,  13.57891854,  12.99246703,  13.28907215,\n",
       "        13.38089495,  11.81964372,  10.42821254,  11.67976137,\n",
       "        10.11173552,   9.13285424,   8.72975623,   7.93739697,   9.14995291])"
      ]
     },
     "execution_count": 100,
     "metadata": {},
     "output_type": "execute_result"
    }
   ],
   "source": [
    "z_t"
   ]
  },
  {
   "cell_type": "code",
   "execution_count": 101,
   "metadata": {
    "collapsed": true
   },
   "outputs": [],
   "source": [
    "z_t_100 = z_t[:100]"
   ]
  },
  {
   "cell_type": "code",
   "execution_count": 103,
   "metadata": {},
   "outputs": [
    {
     "data": {
      "text/plain": [
       "Text(0,0.5,'$x_t$')"
      ]
     },
     "execution_count": 103,
     "metadata": {},
     "output_type": "execute_result"
    },
    {
     "data": {
      "image/png": "[encoded data removed]",
      "text/plain": [
       "<matplotlib.figure.Figure at 0x1a1838c9b0>"
      ]
     },
     "metadata": {},
     "output_type": "display_data"
    }
   ],
   "source": [
    "plt.plot(np.arange(0,100), z_t_100, '-')\n",
    "plt.grid(b=True, which='major', color='0.1', linestyle='--')\n",
    "plt.title('Time series', fontsize=20)\n",
    "plt.xlabel('Period $t$')\n",
    "plt.ylabel('$x_t$')"
   ]
  },
  {
   "cell_type": "markdown",
   "metadata": {},
   "source": [
    "### b "
   ]
  },
  {
   "cell_type": "code",
   "execution_count": 104,
   "metadata": {},
   "outputs": [
    {
     "name": "stdout",
     "output_type": "stream",
     "text": [
      "max: 14.94, min: 7.73\n"
     ]
    }
   ],
   "source": [
    "print(\"max: {:.2f}, min: {:.2f}\".format(z_t.max(), z_t.min()))"
   ]
  },
  {
   "cell_type": "code",
   "execution_count": 105,
   "metadata": {
    "collapsed": true
   },
   "outputs": [],
   "source": [
    "z_vals = np.zeros(5)"
   ]
  },
  {
   "cell_type": "code",
   "execution_count": 106,
   "metadata": {},
   "outputs": [
    {
     "data": {
      "text/plain": [
       "array([  9.3 ,  10.35,  11.4 ,  12.45,  13.5 ])"
      ]
     },
     "execution_count": 106,
     "metadata": {},
     "output_type": "execute_result"
    }
   ],
   "source": [
    "s = -3*sig\n",
    "for i in range(5):\n",
    "    z_vals[i] = mu + s\n",
    "    s += 1.5*sig\n",
    "z_vals    "
   ]
  },
  {
   "cell_type": "markdown",
   "metadata": {},
   "source": [
    "### c "
   ]
  },
  {
   "cell_type": "code",
   "execution_count": 107,
   "metadata": {},
   "outputs": [
    {
     "data": {
      "text/plain": [
       "array([  9.825,  10.875,  11.925,  12.975])"
      ]
     },
     "execution_count": 107,
     "metadata": {},
     "output_type": "execute_result"
    }
   ],
   "source": [
    "z_cuts = 0.5*z_vals[0:4] + 0.5*z_vals[1:5] \n",
    "z_cuts"
   ]
  },
  {
   "cell_type": "code",
   "execution_count": 108,
   "metadata": {},
   "outputs": [
    {
     "data": {
      "text/plain": [
       "array([ 0,  1,  2,  3,  4,  5,  6,  7,  8,  9, 10, 11, 12, 13, 14, 15, 16,\n",
       "       17, 18, 19, 20, 21, 22, 23, 24, 25, 26, 27, 28, 29, 30, 31, 32, 33,\n",
       "       34, 35, 36, 37, 38, 39, 40, 41, 42, 43, 44, 45, 46, 47, 48, 49, 50,\n",
       "       51, 52, 53, 54, 55, 56, 57, 58, 59, 60, 61, 62, 63, 64, 65, 66, 67,\n",
       "       68, 69, 70, 71, 72, 73, 74, 75, 76, 77, 78, 79, 80, 81, 82, 83, 84,\n",
       "       85, 86, 87, 88, 89, 90, 91, 92, 93, 94, 95, 96, 97, 98, 99])"
      ]
     },
     "execution_count": 108,
     "metadata": {},
     "output_type": "execute_result"
    }
   ],
   "source": [
    "x = np.arange(0,100)\n",
    "x"
   ]
  },
  {
   "cell_type": "code",
   "execution_count": 110,
   "metadata": {},
   "outputs": [
    {
     "data": {
      "image/png": "[encoded data removed]",
      "text/plain": [
       "<matplotlib.figure.Figure at 0x1a1843c630>"
      ]
     },
     "metadata": {},
     "output_type": "display_data"
    }
   ],
   "source": [
    "plt.plot(x, z_100, '-')\n",
    "plt.grid(b=True, which='major', color='0.1', linestyle='--')\n",
    "plt.title('Time series with z_cuts', fontsize=20)\n",
    "plt.xlabel('Period $t$')\n",
    "plt.ylabel('$x_t$')\n",
    "\n",
    "for z in z_cuts:\n",
    "    plt.hlines(z, x[0], x[99])"
   ]
  },
  {
   "cell_type": "code",
   "execution_count": 154,
   "metadata": {},
   "outputs": [],
   "source": [
    "def val_to_bin(val, z_cuts):\n",
    "    if val <= z_cuts[0]:\n",
    "        bin = 1 \n",
    "    for i in range(0, 3):\n",
    "        if z_cuts[i] < val <= z_cuts[i+1]:\n",
    "            bin = i+2\n",
    "    if z_cuts[3] < val:\n",
    "        bin = 5\n",
    "    return bin"
   ]
  },
  {
   "cell_type": "code",
   "execution_count": 151,
   "metadata": {
    "collapsed": true
   },
   "outputs": [],
   "source": [
    "def convert_to_bins(z_vals, z_bins, z_cuts):\n",
    "    for i in range(len(z_vals)):\n",
    "        z_bins[i] = val_to_bin(z_vals[i], z_cuts)\n",
    "    return z_bins"
   ]
  },
  {
   "cell_type": "code",
   "execution_count": 155,
   "metadata": {},
   "outputs": [],
   "source": [
    "z_bins = np.zeros(501, dtype = int)"
   ]
  },
  {
   "cell_type": "code",
   "execution_count": 166,
   "metadata": {},
   "outputs": [
    {
     "data": {
      "text/plain": [
       "array([3, 4, 4, 3, 3, 3, 2, 2, 2, 3, 2, 2, 2, 2, 2, 2, 2, 2, 2, 2, 3, 3, 3,\n",
       "       3, 5, 4, 4, 3, 3, 3, 3, 3, 4, 4, 4, 3, 3, 3, 4, 4, 5, 3, 4, 3, 3, 4,\n",
       "       5, 4, 4, 3, 3, 2, 3, 2, 2, 2, 3, 3, 3, 3, 3, 3, 4, 4, 3, 4, 3, 3, 4,\n",
       "       4, 3, 2, 2, 2, 1, 2, 3, 2, 3, 3, 3, 2, 3, 4, 4, 2, 3, 2, 3, 2, 2, 2,\n",
       "       2, 1, 2, 3, 3, 2, 3, 2])"
      ]
     },
     "execution_count": 166,
     "metadata": {},
     "output_type": "execute_result"
    }
   ],
   "source": [
    "z_bins = convert_to_bins(z_t, z_bins, z_cuts)\n",
    "z_bins_100 = z_bins[:100]\n",
    "z_bins_100"
   ]
  },
  {
   "cell_type": "markdown",
   "metadata": {},
   "source": [
    "Compares well to graph."
   ]
  },
  {
   "cell_type": "markdown",
   "metadata": {},
   "source": [
    "501 values, 500 pairs"
   ]
  },
  {
   "cell_type": "code",
   "execution_count": 181,
   "metadata": {},
   "outputs": [],
   "source": [
    "P_freq = np.zeros((5,5), dtype = int)"
   ]
  },
  {
   "cell_type": "code",
   "execution_count": 182,
   "metadata": {},
   "outputs": [],
   "source": [
    "for i in range(500):\n",
    "    prev = z_bins[i]\n",
    "    curr = z_bins[i+1]\n",
    "    P_freq[prev-1, curr-1] += 1"
   ]
  },
  {
   "cell_type": "markdown",
   "metadata": {},
   "source": [
    "Frequency transition matrix"
   ]
  },
  {
   "cell_type": "code",
   "execution_count": 183,
   "metadata": {},
   "outputs": [
    {
     "data": {
      "text/plain": [
       "array([[34, 13,  2,  0,  0],\n",
       "       [11, 66, 39,  4,  0],\n",
       "       [ 5, 36, 79, 38,  6],\n",
       "       [ 0,  5, 41, 60, 13],\n",
       "       [ 0,  0,  2, 17, 29]])"
      ]
     },
     "execution_count": 183,
     "metadata": {},
     "output_type": "execute_result"
    }
   ],
   "source": [
    "P_freq"
   ]
  },
  {
   "cell_type": "markdown",
   "metadata": {},
   "source": [
    "Probability transition matrix"
   ]
  },
  {
   "cell_type": "code",
   "execution_count": 195,
   "metadata": {},
   "outputs": [],
   "source": [
    "P = np.zeros((5,5))"
   ]
  },
  {
   "cell_type": "code",
   "execution_count": 198,
   "metadata": {},
   "outputs": [
    {
     "name": "stdout",
     "output_type": "stream",
     "text": [
      "0 [34 13  2  0  0] 49\n",
      "0.69387755102 0.69387755102\n",
      "0.265306122449 0.265306122449\n",
      "0.0408163265306 0.0408163265306\n",
      "0.0 0.0\n",
      "0.0 0.0\n",
      "1 [11 66 39  4  0] 120\n",
      "0.0916666666667 0.0916666666667\n",
      "0.55 0.55\n",
      "0.325 0.325\n",
      "0.0333333333333 0.0333333333333\n",
      "0.0 0.0\n",
      "2 [ 5 36 79 38  6] 164\n",
      "0.030487804878 0.030487804878\n",
      "0.219512195122 0.219512195122\n",
      "0.481707317073 0.481707317073\n",
      "0.231707317073 0.231707317073\n",
      "0.0365853658537 0.0365853658537\n",
      "3 [ 0  5 41 60 13] 119\n",
      "0.0 0.0\n",
      "0.0420168067227 0.0420168067227\n",
      "0.344537815126 0.344537815126\n",
      "0.504201680672 0.504201680672\n",
      "0.109243697479 0.109243697479\n",
      "4 [ 0  0  2 17 29] 48\n",
      "0.0 0.0\n",
      "0.0 0.0\n",
      "0.0416666666667 0.0416666666667\n",
      "0.354166666667 0.354166666667\n",
      "0.604166666667 0.604166666667\n"
     ]
    }
   ],
   "source": [
    "for i in range(5):\n",
    "    row = P_freq[i]\n",
    "    s = row.sum()\n",
    "    print(i, row, s)\n",
    "    for j in range(5):\n",
    "        P[i, j] = row[j]/s\n",
    "        print(row[j]/s, P[i,j])\n"
   ]
  },
  {
   "cell_type": "code",
   "execution_count": 199,
   "metadata": {},
   "outputs": [
    {
     "data": {
      "text/plain": [
       "array([[ 0.69387755,  0.26530612,  0.04081633,  0.        ,  0.        ],\n",
       "       [ 0.09166667,  0.55      ,  0.325     ,  0.03333333,  0.        ],\n",
       "       [ 0.0304878 ,  0.2195122 ,  0.48170732,  0.23170732,  0.03658537],\n",
       "       [ 0.        ,  0.04201681,  0.34453782,  0.50420168,  0.1092437 ],\n",
       "       [ 0.        ,  0.        ,  0.04166667,  0.35416667,  0.60416667]])"
      ]
     },
     "execution_count": 199,
     "metadata": {},
     "output_type": "execute_result"
    }
   ],
   "source": [
    "P"
   ]
  },
  {
   "cell_type": "markdown",
   "metadata": {},
   "source": [
    "### d "
   ]
  },
  {
   "cell_type": "markdown",
   "metadata": {},
   "source": [
    "P[z_bins(t+3) = 5 | z_bins(t) = 3]"
   ]
  },
  {
   "cell_type": "code",
   "execution_count": 201,
   "metadata": {},
   "outputs": [
    {
     "data": {
      "text/plain": [
       "array([ 0.,  0.,  1.,  0.,  0.])"
      ]
     },
     "execution_count": 201,
     "metadata": {},
     "output_type": "execute_result"
    }
   ],
   "source": [
    "init = np.zeros(5)\n",
    "init[2] = 1\n",
    "init"
   ]
  },
  {
   "cell_type": "code",
   "execution_count": 206,
   "metadata": {},
   "outputs": [
    {
     "data": {
      "text/plain": [
       "array([ 0.0304878 ,  0.2195122 ,  0.48170732,  0.23170732,  0.03658537])"
      ]
     },
     "execution_count": 206,
     "metadata": {},
     "output_type": "execute_result"
    }
   ],
   "source": [
    "one = init@P\n",
    "one"
   ]
  },
  {
   "cell_type": "code",
   "execution_count": 208,
   "metadata": {},
   "outputs": [
    {
     "data": {
      "text/plain": [
       "array([ 0.05596295,  0.24429654,  0.38598413,  0.24871672,  0.06503966])"
      ]
     },
     "execution_count": 208,
     "metadata": {},
     "output_type": "execute_result"
    }
   ],
   "source": [
    "two = one@P\n",
    "two"
   ]
  },
  {
   "cell_type": "code",
   "execution_count": 209,
   "metadata": {},
   "outputs": [
    {
     "data": {
      "text/plain": [
       "array([ 0.0729931 ,  0.24438892,  0.35601426,  0.24601683,  0.0805869 ])"
      ]
     },
     "execution_count": 209,
     "metadata": {},
     "output_type": "execute_result"
    }
   ],
   "source": [
    "three = two@P\n",
    "three"
   ]
  },
  {
   "cell_type": "code",
   "execution_count": 210,
   "metadata": {},
   "outputs": [
    {
     "data": {
      "text/plain": [
       "'Answer: 0.08'"
      ]
     },
     "execution_count": 210,
     "metadata": {},
     "output_type": "execute_result"
    }
   ],
   "source": [
    "\"Answer: {:.2f}\".format(three[4])"
   ]
  },
  {
   "cell_type": "markdown",
   "metadata": {},
   "source": [
    "### e "
   ]
  },
  {
   "cell_type": "code",
   "execution_count": 212,
   "metadata": {
    "collapsed": true
   },
   "outputs": [],
   "source": [
    "import numpy.linalg as LA"
   ]
  },
  {
   "cell_type": "markdown",
   "metadata": {},
   "source": [
    "Stationary distribution of z:"
   ]
  },
  {
   "cell_type": "code",
   "execution_count": 232,
   "metadata": {},
   "outputs": [
    {
     "data": {
      "text/plain": [
       "array([ 0.1045698 ,  0.24154031,  0.32373493,  0.23529555,  0.09485941])"
      ]
     },
     "execution_count": 232,
     "metadata": {},
     "output_type": "execute_result"
    }
   ],
   "source": [
    "LR = LA.matrix_power(P, 100)\n",
    "stat = init@LR\n",
    "stat"
   ]
  },
  {
   "cell_type": "markdown",
   "metadata": {},
   "source": [
    "### f "
   ]
  },
  {
   "cell_type": "code",
   "execution_count": 233,
   "metadata": {},
   "outputs": [
    {
     "data": {
      "image/png": "[encoded data removed]",
      "text/plain": [
       "<matplotlib.figure.Figure at 0x1a18ffc3c8>"
      ]
     },
     "metadata": {},
     "output_type": "display_data"
    }
   ],
   "source": [
    "n, bins, patches = plt.hist(unif_vec)"
   ]
  },
  {
   "cell_type": "code",
   "execution_count": 234,
   "metadata": {},
   "outputs": [
    {
     "data": {
      "text/plain": [
       "Text(0,0.5,'$x_t$')"
      ]
     },
     "execution_count": 234,
     "metadata": {},
     "output_type": "execute_result"
    },
    {
     "data": {
      "image/png": "[encoded data removed]",
      "text/plain": [
       "<matplotlib.figure.Figure at 0x1a18f4cdd8>"
      ]
     },
     "metadata": {},
     "output_type": "display_data"
    }
   ],
   "source": [
    "plt.plot(x, z_bins_100, '-')\n",
    "plt.grid(b=True, which='major', color='0.1', linestyle='--')\n",
    "plt.title('Time series with z_cuts', fontsize=20)\n",
    "plt.xlabel('Period $t$')\n",
    "plt.ylabel('$x_t$')"
   ]
  },
  {
   "cell_type": "markdown",
   "metadata": {},
   "source": [
    "I'm not sure how we are supposed to use the unif_vec random part. But just using the transition matrix:"
   ]
  },
  {
   "cell_type": "code",
   "execution_count": 235,
   "metadata": {},
   "outputs": [
    {
     "data": {
      "text/plain": [
       "array([  9.3 ,  10.35,  11.4 ,  12.45,  13.5 ])"
      ]
     },
     "execution_count": 235,
     "metadata": {},
     "output_type": "execute_result"
    }
   ],
   "source": [
    "z_vals"
   ]
  },
  {
   "cell_type": "code",
   "execution_count": 237,
   "metadata": {
    "collapsed": true
   },
   "outputs": [],
   "source": [
    "import random"
   ]
  },
  {
   "cell_type": "code",
   "execution_count": 240,
   "metadata": {
    "collapsed": true
   },
   "outputs": [],
   "source": [
    "random.seed(25)"
   ]
  },
  {
   "cell_type": "code",
   "execution_count": 243,
   "metadata": {
    "collapsed": true
   },
   "outputs": [],
   "source": [
    "probs = P[0]"
   ]
  },
  {
   "cell_type": "code",
   "execution_count": 252,
   "metadata": {},
   "outputs": [
    {
     "data": {
      "text/plain": [
       "9.3000000000000007"
      ]
     },
     "execution_count": 252,
     "metadata": {},
     "output_type": "execute_result"
    }
   ],
   "source": [
    "np.random.choice(z_vals, p = probs)"
   ]
  },
  {
   "cell_type": "code",
   "execution_count": 254,
   "metadata": {
    "collapsed": true
   },
   "outputs": [],
   "source": [
    "indices = np.array([0,1,2,3,4])"
   ]
  },
  {
   "cell_type": "code",
   "execution_count": 255,
   "metadata": {
    "collapsed": true
   },
   "outputs": [],
   "source": [
    "d = {}\n",
    "for i in range(5):\n",
    "    d[i] = z_vals[i]"
   ]
  },
  {
   "cell_type": "code",
   "execution_count": 256,
   "metadata": {
    "collapsed": true
   },
   "outputs": [],
   "source": [
    "def next_choice(prev, indices, P):\n",
    "    '''\n",
    "    Given previous index (0-4), generate the next index and its corresponding discretised z_val.\n",
    "    '''\n",
    "    row = P[prev]\n",
    "    curr = np.random.choice(indices, p = row)\n",
    "    val = z_vals[curr]\n",
    "    \n",
    "    return curr, val"
   ]
  },
  {
   "cell_type": "code",
   "execution_count": 257,
   "metadata": {},
   "outputs": [
    {
     "data": {
      "text/plain": [
       "(0, 9.3000000000000007)"
      ]
     },
     "execution_count": 257,
     "metadata": {},
     "output_type": "execute_result"
    }
   ],
   "source": [
    "next_choice(0, indices, P)"
   ]
  },
  {
   "cell_type": "code",
   "execution_count": 258,
   "metadata": {
    "collapsed": true
   },
   "outputs": [],
   "source": [
    "z_disc_t = np.zeros(T+1)"
   ]
  },
  {
   "cell_type": "code",
   "execution_count": 259,
   "metadata": {
    "collapsed": true
   },
   "outputs": [],
   "source": [
    "prev_index = 2"
   ]
  },
  {
   "cell_type": "code",
   "execution_count": 260,
   "metadata": {
    "collapsed": true
   },
   "outputs": [],
   "source": [
    "z_disc_t[0] = z_vals[prev_index]"
   ]
  },
  {
   "cell_type": "code",
   "execution_count": null,
   "metadata": {
    "collapsed": true
   },
   "outputs": [],
   "source": [
    "for i in range(T+1):\n",
    "    curr, val = next_choice(prev_index, indices, P)\n",
    "    prev_index = curr\n",
    "    z_disc_t[i] ="
   ]
  },
  {
   "cell_type": "code",
   "execution_count": null,
   "metadata": {
    "collapsed": true
   },
   "outputs": [],
   "source": []
  }
 ],
 "metadata": {
  "kernelspec": {
   "display_name": "Python 3",
   "language": "python",
   "name": "python3"
  },
  "language_info": {
   "codemirror_mode": {
    "name": "ipython",
    "version": 3
   },
   "file_extension": ".py",
   "mimetype": "text/x-python",
   "name": "python",
   "nbconvert_exporter": "python",
   "pygments_lexer": "ipython3",
   "version": "3.6.3"
  }
 },
 "nbformat": 4,
 "nbformat_minor": 2
}
